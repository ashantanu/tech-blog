{
 "cells": [
  {
   "cell_type": "markdown",
   "metadata": {},
   "source": [
    "## Getting Started\n",
    "https://www.figma.com/plugin-docs/plugin-quickstart-guide/\n",
    "\n",
    "Next, install TypeScript using the command:\n",
    "\n",
    "`npm install -g typescript`\n",
    "\n",
    "if you get a permission error try the command with sudo.\n",
    "\n",
    "Finally, in the directory of your plugin, get the latest type definitions for the plugin API by running:\n",
    "\n",
    "`npm install --save-dev @figma/plugin-typings`\n",
    "\n",
    "Using TypeScript requires a compiler to convert TypeScript (code.ts) into JavaScript (code.js) for the browser to run.\n",
    "\n",
    "We recommend writing TypeScript code using Visual Studio code:\n",
    "\n",
    "1. Open project directory in Visual Studio Code.\n",
    "2. Compile TypeScript to JavaScript: Run the \"Terminal > Run Build Task...\" menu item, then select \"npm: watch\". You will have to do this again every time you reopen Visual Studio Code."
   ]
  },
  {
   "cell_type": "markdown",
   "metadata": {},
   "source": [
    "Hot reloading\n",
    "Figma provides the option to hot reload your plugin to speed up the development process. As you edit the plugin code and rebuild, the plugin will automatically restart with the latest changes. If turned off, you will need to manually restart the plugin.\n",
    "\n",
    "plugins > Development >hot reload plugins"
   ]
  }
 ],
 "metadata": {},
 "nbformat": 4,
 "nbformat_minor": 2
}
