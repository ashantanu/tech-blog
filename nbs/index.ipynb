{
 "cells": [
  {
   "cell_type": "code",
   "execution_count": null,
   "metadata": {},
   "outputs": [],
   "source": [
    "#| hide\n",
    "from tech_blog.core import *"
   ]
  },
  {
   "cell_type": "markdown",
   "metadata": {},
   "source": [
    "# Chaos Garden\n",
    "\n",
    "> my poorly written chaos tech blog+space"
   ]
  },
  {
   "cell_type": "markdown",
   "metadata": {},
   "source": [
    "\n",
    "![chaos garden](assets/images/banner.png){width=800px .p-1 fig-align=center .border .rounded .shadow-sm}"
   ]
  },
  {
   "cell_type": "markdown",
   "metadata": {},
   "source": [
    "## Origin Story\n",
    "In a digital galaxy not so far away, I have put up little digital spaces over the internet. Be it social media or poorly designed websites like this. I interact with each space in different capacities but always try to make things interesting. This is the latest in my attempt to put my overthinking brain with my tech skills into a production(?) tech blog that might help out others!"
   ]
  },
  {
   "cell_type": "markdown",
   "metadata": {},
   "source": [
    "## What’s Here?\n",
    "I don’t know yet lol. This is still a fresh clay pot in making, I am hoping to give it shape over the next few weeks. Hopefully, it evolves into a coherent story or becomes the namesake. win-win :)"
   ]
  },
  {
   "cell_type": "markdown",
   "metadata": {},
   "source": [
    "## What’s a SPACE?\n",
    "Every little place where I can drop a bit-o-information or notes or just about anything. A folder in a drawer, a pocket in a purse, a shelf in a closet, or a web page on the internet. Just WAY more unorganised."
   ]
  },
  {
   "cell_type": "markdown",
   "metadata": {},
   "source": [
    "## What do I Expect?\n",
    "FEEDBACK! I’d love feedback. I have grown to understand the internet is full of wonderful supportive people. This is my beacon to the community of these fellow netizens. `\"HELLO WORLD\"`"
   ]
  },
  {
   "cell_type": "code",
   "execution_count": null,
   "metadata": {},
   "outputs": [],
   "source": [
    "#| hide\n",
    "import nbdev; nbdev.nbdev_export()"
   ]
  }
 ],
 "metadata": {
  "kernelspec": {
   "display_name": "python3",
   "language": "python",
   "name": "python3"
  }
 },
 "nbformat": 4,
 "nbformat_minor": 4
}
