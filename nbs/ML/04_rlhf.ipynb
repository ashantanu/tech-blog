{
 "cells": [
  {
   "cell_type": "markdown",
   "metadata": {},
   "source": [
    "# RLHF Primer"
   ]
  },
  {
   "cell_type": "markdown",
   "metadata": {},
   "source": [
    "Wonder how ChatGPT is so good at helping you and being so nice in its responses? It’s because it was trained using RLHF. OpenAI already had the underlying LLM GPT-3 in 2021 which they truly improved with RLHF. Let’s understand what that is!\n",
    "\n",
    "## What is RLHF?\n",
    "\n",
    "Reinforcement Learning from Human Feedback (also referenced as RL from human preferences). Reinforcement learning techniques define an *agent* operating in/interacting with an environment where it takes some actions and receives rewards/penalty for those actions. RLHF brings in human feedback into this as the reward function and thus a model is able to use that as a loss function to optimize over. \n",
    "\n",
    "## Why RLHF?\n",
    "\n",
    "The objective of any model is to achieve the desired output given an input. We design an “objective function” that tells the model what should be the desired output. This gets tricky with generative models where output is unbounded text and there simply isn’t an easy way to reliably signal. For example ‘this is good’ and ‘it’s great’ would sound similar to us but absolutely not to the objective functions we use.\n",
    "\n",
    "Thus, to best align a model with the desired outcome/behavior we use RLHF.\n",
    "\n",
    "It also enables us to “align” a model with human values without a need to define an objective function for those values. Just tell the model your preferences and the model will adjust to them.\n",
    "\n",
    "Why did we not do this, to begin with? Simple answer - it needs the powerful pretrained LLMs that we have these days. Small models are simply not capable enough to learn well from RLHF. Moreover, RLHF itself is relatively new and researchers are trying to understand how it works and what is actually needed to make it work. Could be that we see much smaller models perform spectacularly with a newer RLHF in the coming years.\n",
    "\n",
    "## How to do RLHF?\n",
    "\n",
    "The current way of RLHF takes 4 steps:\n",
    "\n",
    "1. Pre-train a large language model (eg. GPT3, Falcon, Gopher etc)\n",
    "2. Instruct Tune this LLM to get a Supervised fine tuned model (Falcon-Instruct)\n",
    "3. Train a Reward Model (more on this later)\n",
    "4. Finetune SFT with RL to get your Final Model\n",
    "\n",
    "This setup is best described in the diagram (from [Chip Huyen’s blog](https://huyenchip.com/2023/05/02/rlhf.html), [OpenAI paper](https://arxiv.org/pdf/2203.02155.pdf)) below\n",
    "\n",
    "![From Chip Huyen’s blog](images/RLHF/Untitled_.png)\n",
    "\n",
    "![From OpenAI paper](images/RLHF/Untitled%201.png)\n",
    "\n",
    "![](images/RLHF/Untitled%202.png)\n",
    "\n",
    "### Reward Model\n",
    "\n",
    "We train a model to take in a (prompt, output) pair and give a score. This score is a scalar reward that represents the human preference for the output given the prompt. This model is used as a proxy for human feedback in our RLHF setup.\n",
    "\n",
    "The training data is collected using human annotators in a interesting setup. For a input prompt, we generate multiple outputs. Instead of asking annotators to score each pair, we ask them to rank these outputs. There are many methods to do this. One example is showing two generated texts and asking using to choose the better pair which will ultimately give us a ranking. These ranks can then be converted into a scalar reward.\n",
    "\n",
    "### RL step\n",
    "\n",
    "Now we have a SFT and reward model. For each training example, use SFT (agent) to generate an output (action), reward model to generate a scalar reward, and [proximal policy optimization](https://openai.com/research/openai-baselines-ppo) (PPO) (optimizer algo) to update SFT model.\n",
    "\n",
    "![From OpenAI Paper](images/RLHF/Untitled%203.png)\n",
    "\n",
    "## Parting Thoughts\n",
    "\n",
    "Reward model’s performance is itself important so it’s model size is observed to be large. However, one can still speculate about how well it performs.\n",
    "\n",
    "## References\n",
    "\n",
    "[Huggingface RLHF Blog (easier)](https://huggingface.co/blog/rlhf)\n",
    "\n",
    "[Chip Huyen RLHF Blog](https://huyenchip.com/2023/05/02/rlhf.html)\n",
    "\n",
    "[OpenAI RLHF Paper](https://arxiv.org/pdf/2203.02155.pdf)\n",
    "\n",
    "[PPO OpenAI blog](https://openai.com/research/openai-baselines-ppo)\n",
    "\n",
    "[OpenAI early attempts at Human Feedback](https://openai.com/research/learning-from-human-preferences)"
   ]
  },
  {
   "cell_type": "markdown",
   "metadata": {},
   "source": [
    "## Bonus\n",
    "![can't end this without a midjourney pikachu encounter. prompt: \"pikachu in legend of zelda, cgi, high quality render\"](images/midj/pikachu2.png)"
   ]
  },
  {
   "cell_type": "markdown",
   "metadata": {},
   "source": []
  }
 ],
 "metadata": {
  "language_info": {
   "name": "python"
  }
 },
 "nbformat": 4,
 "nbformat_minor": 2
}
