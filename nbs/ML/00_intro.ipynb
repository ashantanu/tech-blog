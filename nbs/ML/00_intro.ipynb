{
 "cells": [
  {
   "cell_type": "markdown",
   "metadata": {},
   "source": [
    "# ML Space\n",
    "*A random collection of ML related resources that I keep collecting like trinkets frm my travels.*\n",
    "\n",
    "LLMs have taken the world by storm. They are close to what AI has been promising for the last 50 years. The time is ripe to start learning about them. This repo is a collection of resources that I found useful.\n",
    "\n",
    "You can find notes on my readings here: [ML Notes](https://amplified-dodo-eda.notion.site/0760b8bc4fc3430ab50094cdbf560f77?v=a3aaf24fe3d64d49bec268f2fc5ed827)"
   ]
  },
  {
   "cell_type": "markdown",
   "metadata": {},
   "source": [
    "## Techincal Resources\n",
    "- [Awesome LLM](https://github.com/Hannibal046/Awesome-LLM): always a big fan of awesome github repos. this one is quentessential for LLMs"
   ]
  },
  {
   "cell_type": "markdown",
   "metadata": {},
   "source": [
    "## AI Tools\n",
    "#### Essentials\n",
    "- [Github Copilot](https://copilot.github.com/) is TOP tier coding ESSENTIAL ✨\n",
    "- [Chat GPT](https://chat.openai.com/chat) duh!"
   ]
  },
  {
   "cell_type": "markdown",
   "metadata": {},
   "source": []
  }
 ],
 "metadata": {
  "kernelspec": {
   "display_name": "python3",
   "language": "python",
   "name": "python3"
  },
  "language_info": {
   "name": "python",
   "version": "3.9.16"
  }
 },
 "nbformat": 4,
 "nbformat_minor": 2
}
