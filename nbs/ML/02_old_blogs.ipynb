{
 "cells": [
  {
   "cell_type": "raw",
   "metadata": {},
   "source": [
    "---\n",
    "skip_exec: true\n",
    "skip_showdoc: true\n",
    "---"
   ]
  },
  {
   "cell_type": "markdown",
   "metadata": {},
   "source": [
    "# Older Blog Posts"
   ]
  },
  {
   "cell_type": "markdown",
   "metadata": {},
   "source": [
    "- [Hi GitHub CoPilot! -Chatting with the AI pair programmer\n",
    "](https://shan101.medium.com/hi-github-copilot-chatting-with-the-ai-pair-programmer-9d95ae81ae5f)\n",
    "- [Doodling AI : Man is to Computer Programmer as Woman is to Homemaker?](https://shan101.medium.com/doodling-ai-man-is-to-computer-programmer-as-woman-is-to-homemaker-ce5e3e2cdf2e)\n",
    "- [Doodling AI: CrowS-Pairs Challenge](https://shan101.medium.com/doodling-ai-crows-pairs-challenge-4c5d00c3f581)\n",
    "- [NLP Paper Notes](https://www.notion.so/NLP-Papers-905600f1c2074cfa8c5ddb5f00172a94)\n",
    "- [Generative Network Notes](https://www.notion.so/Generative-Networks-4736db4ad90f48e9a2108b6a2bb8ccf4)\n",
    "- [Annotated Papers](https://github.com/ashantanu/annotated-papers)"
   ]
  },
  {
   "cell_type": "markdown",
   "metadata": {},
   "source": []
  }
 ],
 "metadata": {},
 "nbformat": 4,
 "nbformat_minor": 2
}
